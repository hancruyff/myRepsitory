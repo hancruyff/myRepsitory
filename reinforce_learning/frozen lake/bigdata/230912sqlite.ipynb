{
 "cells": [
  {
   "cell_type": "code",
   "execution_count": 1,
   "metadata": {},
   "outputs": [],
   "source": [
    "import sqlite3\n",
    "import pandas as pd\n",
    "from sqlite3 import connect"
   ]
  },
  {
   "cell_type": "code",
   "execution_count": 2,
   "metadata": {},
   "outputs": [],
   "source": [
    "DB_PATH='D:\\\\과제 study\\\\bigdata\\\\sqlite_test.db'\n",
    "with connect(DB_PATH) as db:\n",
    "    db.execute(\"\"\"\n",
    "        CREATE TABLE IF NOT EXISTS Orders(\n",
    "            order_id INT,\n",
    "            item VARCHAR(40),\n",
    "            amount INT,\n",
    "            custom_id INT REFERENCES Customers(id),\n",
    "            CONSTRAINT OrdersPK PRIMARY KEY (order_id)\n",
    "        )\n",
    "    \"\"\")\n",
    "with connect(DB_PATH) as db:\n",
    "    db.execute(\"\"\"\n",
    "        CREATE TABLE IF NOT EXISTS Customers(\n",
    "            id INT,\n",
    "            last_name VARCHAR(40),\n",
    "            first_name VARCHAR(40),\n",
    "            age INT,\n",
    "            country VARCHAR(40),\n",
    "            CONSTRAINT CustomersPK PRIMARY KEY (id)\n",
    "               )\n",
    "        \"\"\")"
   ]
  },
  {
   "cell_type": "code",
   "execution_count": 3,
   "metadata": {},
   "outputs": [
    {
     "data": {
      "text/html": [
       "<div>\n",
       "<style scoped>\n",
       "    .dataframe tbody tr th:only-of-type {\n",
       "        vertical-align: middle;\n",
       "    }\n",
       "\n",
       "    .dataframe tbody tr th {\n",
       "        vertical-align: top;\n",
       "    }\n",
       "\n",
       "    .dataframe thead th {\n",
       "        text-align: right;\n",
       "    }\n",
       "</style>\n",
       "<table border=\"1\" class=\"dataframe\">\n",
       "  <thead>\n",
       "    <tr style=\"text-align: right;\">\n",
       "      <th></th>\n",
       "      <th>order_id</th>\n",
       "      <th>item</th>\n",
       "      <th>amount</th>\n",
       "      <th>custom_id</th>\n",
       "    </tr>\n",
       "  </thead>\n",
       "  <tbody>\n",
       "  </tbody>\n",
       "</table>\n",
       "</div>"
      ],
      "text/plain": [
       "Empty DataFrame\n",
       "Columns: [order_id, item, amount, custom_id]\n",
       "Index: []"
      ]
     },
     "execution_count": 3,
     "metadata": {},
     "output_type": "execute_result"
    }
   ],
   "source": [
    "conn=sqlite3.connect(DB_PATH)\n",
    "cursor=conn.cursor()\n",
    "table=pd.read_sql_query(\"SELECT name FROM sqlite_master WHERE type='table'\",conn)\n",
    "table=pd.read_sql_query(\"SELECT * FROM Customers\",conn)\n",
    "table.head()\n",
    "table=pd.read_sql_query(\"SELECT * FROM Orders\",conn)\n",
    "table.head()"
   ]
  },
  {
   "cell_type": "code",
   "execution_count": 11,
   "metadata": {},
   "outputs": [],
   "source": [
    "INSERT_SQL= 'INSERT INTO Orders(order_id, item, amount, custom_id) VALUES(?,?,?,?);'\n",
    "data=(\n",
    "    (1,'공책',500,5),\n",
    "    (2,'펜',10,2),\n",
    "    (3,'마커',120,3),\n",
    "    (4,'책',1000,4),\n",
    "    (5,'지우개',20,1)\n",
    "    )\n",
    "cursor.executemany(INSERT_SQL,data)\n",
    "conn.commit()"
   ]
  },
  {
   "cell_type": "code",
   "execution_count": 12,
   "metadata": {},
   "outputs": [
    {
     "name": "stdout",
     "output_type": "stream",
     "text": [
      "(1, '공책', 500, 5)\n",
      "(2, '펜', 10, 2)\n",
      "(3, '마커', 120, 3)\n",
      "(4, '책', 1000, 4)\n",
      "(5, '지우개', 20, 1)\n"
     ]
    }
   ],
   "source": [
    "cursor.execute('SELECT * FROM Orders')\n",
    "item_list=cursor.fetchall()\n",
    "for i in item_list:\n",
    "    print(i)"
   ]
  },
  {
   "cell_type": "code",
   "execution_count": 16,
   "metadata": {},
   "outputs": [],
   "source": [
    "INSERT_SQL= 'INSERT INTO Customers(id,last_name,first_name,age,country) VALUES(?,?,?,?,?);'\n",
    "data=(\n",
    "    (1,'홍','길동',331,'한국'),\n",
    "    (2,'Luna','Robert',10,'미국'),\n",
    "    (3,'Kim','Monica',35,'러시아'),\n",
    "    (4,'모리','나나세',59,'일본'),\n",
    "    (5,'Doe','Betty',20,'영국')\n",
    "    )\n",
    "cursor.executemany(INSERT_SQL,data)\n",
    "conn.commit()"
   ]
  },
  {
   "cell_type": "code",
   "execution_count": 20,
   "metadata": {},
   "outputs": [
    {
     "data": {
      "text/html": [
       "<div>\n",
       "<style scoped>\n",
       "    .dataframe tbody tr th:only-of-type {\n",
       "        vertical-align: middle;\n",
       "    }\n",
       "\n",
       "    .dataframe tbody tr th {\n",
       "        vertical-align: top;\n",
       "    }\n",
       "\n",
       "    .dataframe thead th {\n",
       "        text-align: right;\n",
       "    }\n",
       "</style>\n",
       "<table border=\"1\" class=\"dataframe\">\n",
       "  <thead>\n",
       "    <tr style=\"text-align: right;\">\n",
       "      <th></th>\n",
       "      <th>order_id</th>\n",
       "      <th>item</th>\n",
       "      <th>amount</th>\n",
       "      <th>custom_id</th>\n",
       "    </tr>\n",
       "  </thead>\n",
       "  <tbody>\n",
       "    <tr>\n",
       "      <th>0</th>\n",
       "      <td>3</td>\n",
       "      <td>마커</td>\n",
       "      <td>120</td>\n",
       "      <td>3</td>\n",
       "    </tr>\n",
       "  </tbody>\n",
       "</table>\n",
       "</div>"
      ],
      "text/plain": [
       "   order_id item  amount  custom_id\n",
       "0         3   마커     120          3"
      ]
     },
     "execution_count": 20,
     "metadata": {},
     "output_type": "execute_result"
    }
   ],
   "source": [
    "q=\"\"\"SELECT * FROM Orders WHERE custom_id = 3;\"\"\"\n",
    "pd.read_sql_query(q,conn)"
   ]
  },
  {
   "cell_type": "code",
   "execution_count": 21,
   "metadata": {},
   "outputs": [
    {
     "data": {
      "text/html": [
       "<div>\n",
       "<style scoped>\n",
       "    .dataframe tbody tr th:only-of-type {\n",
       "        vertical-align: middle;\n",
       "    }\n",
       "\n",
       "    .dataframe tbody tr th {\n",
       "        vertical-align: top;\n",
       "    }\n",
       "\n",
       "    .dataframe thead th {\n",
       "        text-align: right;\n",
       "    }\n",
       "</style>\n",
       "<table border=\"1\" class=\"dataframe\">\n",
       "  <thead>\n",
       "    <tr style=\"text-align: right;\">\n",
       "      <th></th>\n",
       "      <th>id</th>\n",
       "      <th>last_name</th>\n",
       "      <th>first_name</th>\n",
       "      <th>age</th>\n",
       "      <th>country</th>\n",
       "    </tr>\n",
       "  </thead>\n",
       "  <tbody>\n",
       "    <tr>\n",
       "      <th>0</th>\n",
       "      <td>1</td>\n",
       "      <td>홍</td>\n",
       "      <td>길동</td>\n",
       "      <td>331</td>\n",
       "      <td>한국</td>\n",
       "    </tr>\n",
       "  </tbody>\n",
       "</table>\n",
       "</div>"
      ],
      "text/plain": [
       "   id last_name first_name  age country\n",
       "0   1         홍         길동  331      한국"
      ]
     },
     "execution_count": 21,
     "metadata": {},
     "output_type": "execute_result"
    }
   ],
   "source": [
    "q=\"\"\"SELECT * FROM Customers WHERE id = 1;\"\"\"\n",
    "pd.read_sql_query(q,conn)"
   ]
  },
  {
   "cell_type": "code",
   "execution_count": 25,
   "metadata": {},
   "outputs": [
    {
     "name": "stdout",
     "output_type": "stream",
     "text": [
      "[]\n"
     ]
    }
   ],
   "source": [
    "UPDATE_SQL='UPDATE Customers SET country=\"카자흐스탄\" WHERE first_name=\"monica\";'\n",
    "cursor.execute(UPDATE_SQL)\n",
    "conn.commit()\n",
    "\n",
    "cursor.execute('SELECT * FROM Customers WHERE first_name=\"monica\";')\n",
    "updated_customers = cursor.fetchall()\n",
    "print(updated_customers)"
   ]
  },
  {
   "cell_type": "code",
   "execution_count": null,
   "metadata": {},
   "outputs": [],
   "source": []
  }
 ],
 "metadata": {
  "kernelspec": {
   "display_name": "schbigdata",
   "language": "python",
   "name": "python3"
  },
  "language_info": {
   "codemirror_mode": {
    "name": "ipython",
    "version": 3
   },
   "file_extension": ".py",
   "mimetype": "text/x-python",
   "name": "python",
   "nbconvert_exporter": "python",
   "pygments_lexer": "ipython3",
   "version": "3.9.17"
  },
  "orig_nbformat": 4
 },
 "nbformat": 4,
 "nbformat_minor": 2
}
